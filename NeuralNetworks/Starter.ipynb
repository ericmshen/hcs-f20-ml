{
 "cells": [
  {
   "cell_type": "code",
   "execution_count": 22,
   "metadata": {},
   "outputs": [],
   "source": [
    "# import required libraries\n",
    "import math\n",
    "import numpy as np\n",
    "import matplotlib.pyplot as plt\n",
    "import tensorflow as tf\n",
    "from tensorflow import keras\n",
    "from tensorflow.keras import layers"
   ]
  },
  {
   "cell_type": "code",
   "execution_count": 14,
   "metadata": {},
   "outputs": [],
   "source": [
    "# loading the data\n",
    "apple_data = np.load('../SampleData/apple.npy')\n",
    "bread_data = np.load('../SampleData/bread.npy')\n",
    "broccoli_data = np.load('../SampleData/broccoli.npy')\n",
    "sandwich_data = np.load('../SampleData/sandwich.npy')\n",
    "\n",
    "# each variable is an array of 28x28 matrices with \n",
    "# entries being BW colour values, with a few thousand items total"
   ]
  },
  {
   "cell_type": "code",
   "execution_count": 20,
   "metadata": {},
   "outputs": [
    {
     "data": {
      "image/png": "[encoded data removed]",
      "text/plain": [
       "<Figure size 432x288 with 1 Axes>"
      ]
     },
     "metadata": {
      "needs_background": "light"
     },
     "output_type": "display_data"
    }
   ],
   "source": [
    "# understanding the data\n",
    "def print_data(data):\n",
    "    for line in data:\n",
    "        print(line)\n",
    "        print('----------------')\n",
    "\n",
    "# print(apple_data[:10])\n",
    "\n",
    "# cleaner printing\n",
    "def print_drawing(drawing):\n",
    "    plt.imshow(drawing.reshape((28,28)), cmap='Greys')\n",
    "    plt.axis('off')\n",
    "    plt.show()\n",
    "\n",
    "print_drawing(apple_data[6])"
   ]
  },
  {
   "cell_type": "code",
   "execution_count": 25,
   "metadata": {},
   "outputs": [],
   "source": [
    "# randomizing the data\n",
    "np.random.shuffle(apple_data)\n",
    "np.random.shuffle(bread_data)\n",
    "np.random.shuffle(broccoli_data)\n",
    "np.random.shuffle(sandwich_data)\n",
    "\n",
    "# splitting into test and train\n",
    "train_percent = 0.8\n",
    "\n",
    "# take first apple_percent of entries\n",
    "# [1,0,0,0] = apple, [0,1,0,0] = bread, [0,0,1,0] = broccoli, [0,0,0,1] = sandwich\n",
    "# all the training data should return apples\n",
    "apple_cutoff = math.floor(len(apple_data) * train_percent)\n",
    "apple_trainX = apple_data[:apple_cutoff]\n",
    "apple_trainY = np.tile([1,0,0,0], (len(apple_trainX), 1))\n",
    "apple_testX = apple_data[apple_cutoff:]\n",
    "apple_testY = np.tile([1,0,0,0], (len(apple_testX), 1))\n",
    "\n",
    "# all the training data should return bread etc.\n",
    "bread_cutoff = math.floor(len(bread_data) * train_percent)\n",
    "bread_trainX = bread_data[:bread_cutoff]\n",
    "bread_trainY = np.tile([0,1,0,0], (len(bread_trainX),1))\n",
    "bread_testX = bread_data[bread_cutoff:]\n",
    "bread_testY = np.tile([0,1,0,0], (len(bread_testX),1))\n",
    "\n",
    "broccoli_cutoff = math.floor(len(broccoli_data) * train_percent)\n",
    "broccoli_trainX = broccoli_data[:broccoli_cutoff]\n",
    "broccoli_trainY = np.tile([0,0,1,0], (len(broccoli_trainX),1))\n",
    "broccoli_testX = broccoli_data[broccoli_cutoff:]\n",
    "broccoli_testY = np.tile([0,0,1,0], (len(broccoli_testX),1))\n",
    "\n",
    "sandwich_cutoff = math.floor(len(sandwich_data) * train_percent)\n",
    "sandwich_trainX = sandwich_data[:sandwich_cutoff]\n",
    "sandwich_trainY = np.tile([0,0,0,1], (len(sandwich_trainX),1))\n",
    "sandwich_testX = sandwich_data[sandwich_cutoff:]\n",
    "sandwich_testY = np.tile([0,0,0,1], (len(sandwich_testX),1))\n",
    "\n",
    "# building the training and testing arrays\n",
    "# just combine the above - syntax is to put all arrays in a tuple\n",
    "X_train = np.concatenate((apple_trainX, bread_trainX, broccoli_trainX, sandwich_trainX))\n",
    "Y_train = np.concatenate((apple_trainY, bread_trainY, broccoli_trainY, sandwich_trainY))\n",
    "\n",
    "X_test = np.concatenate((apple_testX, bread_testX, broccoli_testX, sandwich_testX))\n",
    "Y_test = np.concatenate((apple_testY, bread_testY, broccoli_testY, sandwich_testY))"
   ]
  },
  {
   "cell_type": "code",
   "execution_count": 26,
   "metadata": {},
   "outputs": [],
   "source": [
    "# normalize the X data\n",
    "X_train = X_train.astype('float32') / 255\n",
    "X_test = X_test.astype('float32') / 255"
   ]
  },
  {
   "cell_type": "code",
   "execution_count": 30,
   "metadata": {},
   "outputs": [],
   "source": [
    "# building out the model\n",
    "# sequential: linear layers of nodes\n",
    "# disclaimer: choice of # nodes/layers was kinda arbitrary; dropout is to prevent overfitting\n",
    "# adjusting the size of nodes in each layer affects behaviour; in small models, first two having same number is \n",
    "# usually good\n",
    "model = keras.models.Sequential()\n",
    "\n",
    "# adding the first hidden layer\n",
    "# a Dense layer is one that's fully connected to the previous layer, let it have 512 nodes\n",
    "# input is a 28x28 photo, so 784 items\n",
    "model.add(layers.Dense(512, input_shape = (784,)))\n",
    "model.add(layers.Activation('relu'))\n",
    "model.add(layers.Dropout(0.2))\n",
    "\n",
    "# adding the second hidden layer\n",
    "model.add(layers.Dense(512))\n",
    "model.add(layers.Activation('relu'))\n",
    "model.add(layers.Dropout(0.2))\n",
    "\n",
    "# adding the output layer\n",
    "model.add(layers.Dense(4))\n",
    "model.add(layers.Activation('softmax'))"
   ]
  },
  {
   "cell_type": "code",
   "execution_count": 32,
   "metadata": {},
   "outputs": [],
   "source": [
    "# compiling the model\n",
    "# copied from tutorial\n",
    "model.compile(loss='categorical_crossentropy', metrics=['accuracy'], optimizer='adam')"
   ]
  },
  {
   "cell_type": "code",
   "execution_count": 33,
   "metadata": {},
   "outputs": [
    {
     "name": "stdout",
     "output_type": "stream",
     "text": [
      "Epoch 1/20\n",
      "3312/3312 - 14s - loss: 0.8428 - accuracy: 0.8773 - val_loss: 0.2555 - val_accuracy: 0.9197\n",
      "Epoch 2/20\n",
      "3312/3312 - 14s - loss: 0.2683 - accuracy: 0.9155 - val_loss: 0.2348 - val_accuracy: 0.9236\n",
      "Epoch 3/20\n",
      "3312/3312 - 14s - loss: 0.2494 - accuracy: 0.9216 - val_loss: 0.2154 - val_accuracy: 0.9314\n",
      "Epoch 4/20\n",
      "3312/3312 - 16s - loss: 0.2373 - accuracy: 0.9258 - val_loss: 0.2142 - val_accuracy: 0.9322\n",
      "Epoch 5/20\n",
      "3312/3312 - 16s - loss: 0.2276 - accuracy: 0.9293 - val_loss: 0.2220 - val_accuracy: 0.9284\n",
      "Epoch 6/20\n",
      "3312/3312 - 15s - loss: 0.2200 - accuracy: 0.9315 - val_loss: 0.1991 - val_accuracy: 0.9352\n",
      "Epoch 7/20\n",
      "3312/3312 - 15s - loss: 0.2113 - accuracy: 0.9338 - val_loss: 0.2032 - val_accuracy: 0.9369\n",
      "Epoch 8/20\n",
      "3312/3312 - 15s - loss: 0.2075 - accuracy: 0.9354 - val_loss: 0.1905 - val_accuracy: 0.9372\n",
      "Epoch 9/20\n",
      "3312/3312 - 12s - loss: 0.2045 - accuracy: 0.9361 - val_loss: 0.1943 - val_accuracy: 0.9375\n",
      "Epoch 10/20\n",
      "3312/3312 - 14s - loss: 0.1983 - accuracy: 0.9381 - val_loss: 0.1903 - val_accuracy: 0.9409\n",
      "Epoch 11/20\n",
      "3312/3312 - 14s - loss: 0.1954 - accuracy: 0.9391 - val_loss: 0.1959 - val_accuracy: 0.9418\n",
      "Epoch 12/20\n",
      "3312/3312 - 15s - loss: 0.1917 - accuracy: 0.9403 - val_loss: 0.1878 - val_accuracy: 0.9410\n",
      "Epoch 13/20\n",
      "3312/3312 - 14s - loss: 0.1890 - accuracy: 0.9412 - val_loss: 0.2020 - val_accuracy: 0.9399\n",
      "Epoch 14/20\n",
      "3312/3312 - 15s - loss: 0.1873 - accuracy: 0.9419 - val_loss: 0.2064 - val_accuracy: 0.9379\n",
      "Epoch 15/20\n",
      "3312/3312 - 14s - loss: 0.1845 - accuracy: 0.9426 - val_loss: 0.1993 - val_accuracy: 0.9402\n",
      "Epoch 16/20\n",
      "3312/3312 - 14s - loss: 0.1819 - accuracy: 0.9428 - val_loss: 0.1987 - val_accuracy: 0.9406\n",
      "Epoch 17/20\n",
      "3312/3312 - 14s - loss: 0.1811 - accuracy: 0.9429 - val_loss: 0.2085 - val_accuracy: 0.9426\n",
      "Epoch 18/20\n",
      "3312/3312 - 14s - loss: 0.1789 - accuracy: 0.9438 - val_loss: 0.1976 - val_accuracy: 0.9423\n",
      "Epoch 19/20\n",
      "3312/3312 - 14s - loss: 0.1770 - accuracy: 0.9443 - val_loss: 0.2081 - val_accuracy: 0.9409\n",
      "Epoch 20/20\n",
      "3312/3312 - 14s - loss: 0.1757 - accuracy: 0.9445 - val_loss: 0.2084 - val_accuracy: 0.9391\n"
     ]
    }
   ],
   "source": [
    "# training the model\n",
    "history = model.fit(X_train, Y_train,\n",
    "          batch_size=128, epochs=20,\n",
    "          verbose=2,\n",
    "          validation_data=(X_test, Y_test))"
   ]
  },
  {
   "cell_type": "code",
   "execution_count": null,
   "metadata": {},
   "outputs": [],
   "source": []
  }
 ],
 "metadata": {
  "kernelspec": {
   "display_name": "Python 3",
   "language": "python",
   "name": "python3"
  },
  "language_info": {
   "codemirror_mode": {
    "name": "ipython",
    "version": 3
   },
   "file_extension": ".py",
   "mimetype": "text/x-python",
   "name": "python",
   "nbconvert_exporter": "python",
   "pygments_lexer": "ipython3",
   "version": "3.8.3"
  }
 },
 "nbformat": 4,
 "nbformat_minor": 2
}
